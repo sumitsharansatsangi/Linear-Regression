{
 "cells": [
  {
   "cell_type": "code",
   "execution_count": 3,
   "metadata": {},
   "outputs": [],
   "source": [
    "import numpy as np\n",
    "import pandas as pd\n",
    "import matplotlib.pyplot as plt\n",
    "from sklearn.model_selection import train_test_split"
   ]
  },
  {
   "cell_type": "code",
   "execution_count": 2,
   "metadata": {},
   "outputs": [],
   "source": [
    "def gradient_descent (x,y):\n",
    "    theta_0=theta_1=1\n",
    "    n_iter=50\n",
    "    m=len(x)\n",
    "    l_rate=0.001\n",
    "    j_list=[]\n",
    "    iter_list=[]\n",
    "    theta_0_l=[]\n",
    "    theta_1_l=[]\n",
    "    for i in range(n_iter):\n",
    "        y_pred=(theta_1*x)+theta_0\n",
    "        #print(y_pred)\n",
    "        #j_theta=(1/m)*np.sum((y-y_pred)**2)                                                                                                                                                                                                                                                                                                                                                         \n",
    "        j_theta=(np.sum((y-y_pred)**2))/(2*m)\n",
    "        j_list.append(j_theta)\n",
    "        iter_list.append(i)\n",
    "        grad_theta_1=(-2/m)*sum(x*(y-y_pred))\n",
    "        grad_theta_0=(-2/m)*sum(y-y_pred)\n",
    "        theta_1=theta_1-l_rate*grad_theta_1\n",
    "        theta_0=theta_1-l_rate*grad_theta_0\n",
    "        theta_0_l.append(theta_0)\n",
    "        theta_1_l.append(theta_1)\n",
    "        #print(\"error:  {},m:  {}, b:   {},  iter:  {}\".format(j_theta,theta_1,theta_0,i))\n",
    "    return(iter_list,j_list,theta_0,theta_1)    \n"
   ]
  },
  {
   "cell_type": "code",
   "execution_count": 8,
   "metadata": {},
   "outputs": [
    {
     "name": "stdout",
     "output_type": "stream",
     "text": [
      "Coefficients are \n",
      " theta_0 :96.02186271990483 \n",
      " theta_1 :96.03153521220293\n",
      "Plot of Original Data\n"
     ]
    },
    {
     "data": {
      "image/png": "[encoded data removed]",
      "text/plain": [
       "<Figure size 432x288 with 1 Axes>"
      ]
     },
     "metadata": {},
     "output_type": "display_data"
    }
   ],
   "source": [
    "df=pd.read_csv(\"Icecream_data.csv\")\n",
    "df=pd.DataFrame(df)\n",
    "y1=df[\"No of icecream sold\"]\n",
    "x_train ,x_test,y_train,y_test=train_test_split(df,y1,test_size=0.4)\n",
    "y=y_train #df[\"No of icecream sold\"]\n",
    "x=x_train[\"Temp\"] #df[\"Temp\"]\n",
    "a=gradient_descent(x,y)\n",
    "print(\"Coefficients are \\n theta_0 :{} \\n theta_1 :{}\".format(a[2],a[3]))\n",
    "print(\"Plot of Original Data\")\n",
    "plt.plot(df[\"Temp\"],df[\"No of icecream sold\"])\n",
    "plt.show()\n",
    "#print(a[2],a[3])"
   ]
  },
  {
   "cell_type": "code",
   "execution_count": 15,
   "metadata": {},
   "outputs": [
    {
     "name": "stdout",
     "output_type": "stream",
     "text": [
      "accuracy is 97.43527733936672 %\n"
     ]
    }
   ],
   "source": [
    "hyp=a[2]*x_test[\"Temp\"]+a[3]\n",
    "from sklearn.metrics import r2_score\n",
    "acc=r2_score(hyp,y_test)\n",
    "print(\"accuracy is {} %\".format(acc*100))"
   ]
  },
  {
   "cell_type": "code",
   "execution_count": null,
   "metadata": {},
   "outputs": [],
   "source": []
  },
  {
   "cell_type": "code",
   "execution_count": 16,
   "metadata": {},
   "outputs": [
    {
     "name": "stdout",
     "output_type": "stream",
     "text": [
      "Plot between no of iteration and error\n"
     ]
    },
    {
     "data": {
      "image/png": "[encoded data removed]",
      "text/plain": [
       "<Figure size 432x288 with 1 Axes>"
      ]
     },
     "metadata": {},
     "output_type": "display_data"
    }
   ],
   "source": [
    "print(\"Plot between no of iteration and error\")\n",
    "plt.plot(a[0],a[1])\n",
    "plt.show()"
   ]
  },
  {
   "cell_type": "code",
   "execution_count": null,
   "metadata": {},
   "outputs": [],
   "source": []
  }
 ],
 "metadata": {
  "kernelspec": {
   "display_name": "Python 3",
   "language": "python",
   "name": "python3"
  },
  "language_info": {
   "codemirror_mode": {
    "name": "ipython",
    "version": 3
   },
   "file_extension": ".py",
   "mimetype": "text/x-python",
   "name": "python",
   "nbconvert_exporter": "python",
   "pygments_lexer": "ipython3",
   "version": "3.6.5"
  }
 },
 "nbformat": 4,
 "nbformat_minor": 2
}
